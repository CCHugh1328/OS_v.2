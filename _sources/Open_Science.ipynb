{
 "cells": [
  {
   "cell_type": "markdown",
   "id": "1a5d277d-e719-4ca1-b8c2-b254897751e5",
   "metadata": {},
   "source": [
    "## Chapt1\n",
    "### Open source I use\n",
    "- The main four webs:\n",
    "1. [Open Altimetry ICESat-2](https://openaltimetry.earthdatacloud.nasa.gov/data/icesat2/)\n",
    "2. [EarthExplorer](https://earthexplorer.usgs.gov/)\n",
    "3. [澎湖南方四島國家公園官網](https://www.marine.gov.tw/southpenghu/zh-tw)\n",
    "4. [Copernicus Browser](https://browser.dataspace.copernicus.eu/?zoom=14&lat=23.2641&lng=119.53194&themeId=DEFAULT-THEME&visualizationUrl=U2FsdGVkX1%2BpmRcG7SzmVyXMtGnvJiWPbCxAJhQdPPUhPdM%2FPljfOwXikBMYu8D8Vvk8Cbt5gWyHP4oOs6cPfsD%2BwBFz5KLdurjxWCEMwzKk8Avd6QiFSbl6eVR7Sqav&datasetId=S2_L1C_CDAS&fromTime=2024-09-26T00%3A00%3A00.000Z&toTime=2024-09-26T23%3A59%3A59.999Z&layerId=1_TRUE_COLOR&demSource3D=%22MAPZEN%22&cloudCoverage=30&dateMode=SINGLE)\n",
    "    - Others helping\n",
    "    1. [ChatGPT](https://chatgpt.com/)\n",
    "    2. My friends lol"
   ]
  },
  {
   "cell_type": "markdown",
   "id": "6a424044-45e2-4bb4-9174-00c1628c9273",
   "metadata": {},
   "source": [
    "### The servers I use\n",
    "1. [JupyterHub](servers)\n",
    "2. [GitHub](https://github.com/)"
   ]
  },
  {
   "cell_type": "code",
   "execution_count": null,
   "id": "e8be071b-d420-4747-b821-206f00ed1d93",
   "metadata": {},
   "outputs": [],
   "source": []
  }
 ],
 "metadata": {
  "kernelspec": {
   "display_name": "Python 3 (ipykernel)",
   "language": "python",
   "name": "python3"
  },
  "language_info": {
   "codemirror_mode": {
    "name": "ipython",
    "version": 3
   },
   "file_extension": ".py",
   "mimetype": "text/x-python",
   "name": "python",
   "nbconvert_exporter": "python",
   "pygments_lexer": "ipython3",
   "version": "3.11.6"
  }
 },
 "nbformat": 4,
 "nbformat_minor": 5
}
