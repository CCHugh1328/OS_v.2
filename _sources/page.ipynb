{
 "cells": [
  {
   "cell_type": "markdown",
   "id": "2fb0228d-d394-4285-be62-74277fea2fe5",
   "metadata": {},
   "source": [
    "# Chapter 2\n",
    "\n",
    "blabla"
   ]
  },
  {
   "cell_type": "code",
   "execution_count": null,
   "id": "96409f45-f573-4cd8-bda6-e750a4eb5e19",
   "metadata": {},
   "outputs": [],
   "source": []
  }
 ],
 "metadata": {
  "kernelspec": {
   "display_name": "Python 3 (ipykernel)",
   "language": "python",
   "name": "python3"
  },
  "language_info": {
   "codemirror_mode": {
    "name": "ipython",
    "version": 3
   },
   "file_extension": ".py",
   "mimetype": "text/x-python",
   "name": "python",
   "nbconvert_exporter": "python",
   "pygments_lexer": "ipython3",
   "version": "3.11.6"
  }
 },
 "nbformat": 4,
 "nbformat_minor": 5
}
