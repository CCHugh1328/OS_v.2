{
 "cells": [
  {
   "cell_type": "markdown",
   "id": "f87121c2-7981-4457-b9e6-84d594be33a5",
   "metadata": {},
   "source": [
    "![csrsr](csrsr_logo.png)"
   ]
  },
  {
   "cell_type": "markdown",
   "id": "7043f811-84e6-4b6b-9e1f-54da726ddd99",
   "metadata": {},
   "source": [
    "$\n",
    "\n",
    "    \\,P = \\εσA{\\Tio\\,\\s\n",
    "\n",
    "#### This sample code was auto-generated using Bing's ChatGPT AI (GPT-4).\n",
    "\n",
    "import numpy as np\n",
    "from scipy import optimize\n",
    "\n",
    "# Define the function that we want to fit\n",
    "def test_func(x, a, b):\n",
    "    return a * np.sin(b * x)\n",
    "\n",
    "# Generate some data with noise to fit\n",
    "x_data = np.linspace(0, 4 * np.pi, 100)\n",
    "y_data = 3.0 * np.sin(1.5 * x_data) + 0.5 * np.random.normal(size=100)\n",
    "\n",
    "# Fit the data with the function\n",
    "params, params_covariance = optimize.curve_fit(test_func, x_data, y_data, p0=[2, 2])\n",
    "\n",
    "# Print the results\n",
    "print(params)igma \\,T^{4}.}\n",
    "$$$,T^{4},}\n",
    "```"
   ]
  },
  {
   "cell_type": "markdown",
   "id": "737a957d-37ff-4e5a-88f3-3d43af43b738",
   "metadata": {},
   "source": [
    "P\n",
    "∘\n",
    "A\r",
    "εsivity of the"
   ]
  }
 ],
 "metadata": {
  "kernelspec": {
   "display_name": "Python 3 (ipykernel)",
   "language": "python",
   "name": "python3"
  },
  "language_info": {
   "codemirror_mode": {
    "name": "ipython",
    "version": 3
   },
   "file_extension": ".py",
   "mimetype": "text/x-python",
   "name": "python",
   "nbconvert_exporter": "python",
   "pygments_lexer": "ipython3",
   "version": "3.11.6"
  }
 },
 "nbformat": 4,
 "nbformat_minor": 5
}
