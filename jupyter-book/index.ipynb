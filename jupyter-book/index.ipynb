{
 "cells": [
  {
   "cell_type": "markdown",
   "id": "f87121c2-7981-4457-b9e6-84d594be33a5",
   "metadata": {},
   "source": [
    "# South Penghu Marine National Park\n",
    "\n",
    "Blabla\n",
    "\n",
    "## Chapt1\n",
    "### Open source I use\n",
    "\n",
    "kkkkkkk\n",
    "\n",
    "## Chapt2\n",
    "\n",
    "![csrsr](csrsr_logo.png)"
   ]
  },
  {
   "cell_type": "markdown",
   "id": "7043f811-84e6-4b6b-9e1f-54da726ddd99",
   "metadata": {},
   "source": [
    "$\r\n",
    "P = \\varepsilon \\sigma A T^4\r\n",
    "$\r\n"
   ]
  },
  {
   "cell_type": "code",
   "execution_count": null,
   "id": "4b5f8879-c036-49b0-99e5-0e6190fd9109",
   "metadata": {},
   "outputs": [],
   "source": []
  }
 ],
 "metadata": {
  "kernelspec": {
   "display_name": "Python 3 (ipykernel)",
   "language": "python",
   "name": "python3"
  },
  "language_info": {
   "codemirror_mode": {
    "name": "ipython",
    "version": 3
   },
   "file_extension": ".py",
   "mimetype": "text/x-python",
   "name": "python",
   "nbconvert_exporter": "python",
   "pygments_lexer": "ipython3",
   "version": "3.11.6"
  }
 },
 "nbformat": 4,
 "nbformat_minor": 5
}
