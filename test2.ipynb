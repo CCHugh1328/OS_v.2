{
 "cells": [
  {
   "cell_type": "markdown",
   "id": "fec85552-4c21-4341-a1c9-8b303f8ae9e3",
   "metadata": {},
   "source": [
    "#### This sample code was modified from ipyleaflet's demo examples.\r\n",
    "from ipyleaflet import Map, basemaps, basemap_to_tiles, Marker\r\n",
    "\r\n",
    "center = (24.9677, 121.1870)\r\n",
    "\r\n",
    "m = Map(\r\n",
    "    basemap=basemap_to_tiles(basemaps.OpenStreetMap.Mapnik),\r\n",
    "    center=center,\r\n",
    "    zoom=15\r\n",
    "    )\r\n",
    "marker = Marker(location=center, draggable=False)\r\n",
    "m.add_layer(marker);\r\n",
    "m"
   ]
  },
  {
   "cell_type": "markdown",
   "id": "2bd8b223-cda9-403b-88d9-5ae4b94e6092",
   "metadata": {},
   "source": [
    "#### This sample code was auto-generated using Bing's ChatGPT AI (GPT-4).\n",
    "\n",
    "import numpy as np\n",
    "from scipy import optimize\n",
    "\n",
    "# Define the function that we want to fit\n",
    "def test_func(x, a, b):\n",
    "    return a * np.sin(b * x)\n",
    "\n",
    "# Generate some data with noise to fit\n",
    "x_data = np.linspace(0, 4 * np.pi, 100)\n",
    "y_data = 3.0 * np.sin(1.5 * x_data) + 0.5 * np.random.normal(size=100)\n",
    "\n",
    "# Fit the data with the function\n",
    "params, params_covariance = optimize.curve_fit(test_func, x_data, y_data, p0=[2, 2])\n",
    "\n",
    "# Print the results\n",
    "print(params)\n"
   ]
  },
  {
   "cell_type": "code",
   "execution_count": 3,
   "id": "e3bdddd9-24ec-4508-bca6-1113cb742200",
   "metadata": {},
   "outputs": [],
   "source": [
    "a = 3"
   ]
  },
  {
   "cell_type": "code",
   "execution_count": 1,
   "id": "5d062957-c161-442f-a28e-a68ba4e1d6ed",
   "metadata": {},
   "outputs": [
    {
     "ename": "NameError",
     "evalue": "name 'a' is not defined",
     "output_type": "error",
     "traceback": [
      "\u001b[0;31m---------------------------------------------------------------------------\u001b[0m",
      "\u001b[0;31mNameError\u001b[0m                                 Traceback (most recent call last)",
      "Cell \u001b[0;32mIn[1], line 1\u001b[0m\n\u001b[0;32m----> 1\u001b[0m \u001b[38;5;28mprint\u001b[39m(\u001b[43ma\u001b[49m)\n",
      "\u001b[0;31mNameError\u001b[0m: name 'a' is not defined"
     ]
    }
   ],
   "source": [
    "print(a)"
   ]
  },
  {
   "cell_type": "code",
   "execution_count": null,
   "id": "aa134ef3-b2a2-490b-98aa-4a2773019d7f",
   "metadata": {},
   "outputs": [],
   "source": []
  },
  {
   "cell_type": "code",
   "execution_count": null,
   "id": "e36882f2-2fd4-43d7-8878-25979e632d86",
   "metadata": {},
   "outputs": [],
   "source": []
  }
 ],
 "metadata": {
  "kernelspec": {
   "display_name": "Python 3 (ipykernel)",
   "language": "python",
   "name": "python3"
  },
  "language_info": {
   "codemirror_mode": {
    "name": "ipython",
    "version": 3
   },
   "file_extension": ".py",
   "mimetype": "text/x-python",
   "name": "python",
   "nbconvert_exporter": "python",
   "pygments_lexer": "ipython3",
   "version": "3.11.6"
  }
 },
 "nbformat": 4,
 "nbformat_minor": 5
}
