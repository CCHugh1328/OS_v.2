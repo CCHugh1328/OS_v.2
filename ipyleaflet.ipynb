{
 "cells": [
  {
   "cell_type": "markdown",
   "id": "fec85552-4c21-4341-a1c9-8b303f8ae9e3",
   "metadata": {},
   "source": [
    "#### This sample code was modified from ipyleaflet's demo examples.\r\n",
    "from ipyleaflet import Map, basemaps, basemap_to_tiles, Marker\r\n",
    "\r\n",
    "center = (24.9677, 121.1870)\r\n",
    "\r\n",
    "m = Map(\r\n",
    "    basemap=basemap_to_tiles(basemaps.OpenStreetMap.Mapnik),\r\n",
    "    center=center,\r\n",
    "    zoom=15\r\n",
    "    )\r\n",
    "marker = Marker(location=center, draggable=False)\r\n",
    "m.add_layer(marker);\r\n",
    "m"
   ]
  },
  {
   "cell_type": "markdown",
   "id": "c08fe777-d5e2-4b6f-863f-77cce60ac569",
   "metadata": {},
   "source": []
  },
  {
   "cell_type": "code",
   "execution_count": null,
   "id": "3d2b1d12-6359-4f69-9a7f-2b400789cd57",
   "metadata": {},
   "outputs": [],
   "source": []
  }
 ],
 "metadata": {
  "kernelspec": {
   "display_name": "Python 3 (ipykernel)",
   "language": "python",
   "name": "python3"
  },
  "language_info": {
   "codemirror_mode": {
    "name": "ipython",
    "version": 3
   },
   "file_extension": ".py",
   "mimetype": "text/x-python",
   "name": "python",
   "nbconvert_exporter": "python",
   "pygments_lexer": "ipython3",
   "version": "3.11.6"
  }
 },
 "nbformat": 4,
 "nbformat_minor": 5
}
